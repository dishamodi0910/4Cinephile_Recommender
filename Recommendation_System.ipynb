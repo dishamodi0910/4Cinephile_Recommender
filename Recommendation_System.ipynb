{
  "cells": [
    {
      "cell_type": "code",
      "execution_count": null,
      "metadata": {
        "id": "sp0gxf1K-gA6"
      },
      "outputs": [],
      "source": [
        "import pandas as pd\n",
        "import matplotlib.pyplot as plt\n",
        "import numpy as np\n",
        "import seaborn as sns\n",
        "from scipy.sparse import csr_matrix, save_npz\n",
        "from sklearn.neighbors import NearestNeighbors\n",
        "import joblib\n",
        "from scipy.sparse import load_npz"
      ]
    },
    {
      "cell_type": "code",
      "execution_count": null,
      "metadata": {
        "id": "59FGC3OgRg9v"
      },
      "outputs": [],
      "source": [
        "import pyarrow as pa\n",
        "import pyarrow.parquet as pq"
      ]
    },
    {
      "cell_type": "code",
      "execution_count": null,
      "metadata": {
        "colab": {
          "base_uri": "https://localhost:8080/"
        },
        "id": "IKHpl6tOCgs_",
        "outputId": "b36aabbe-d067-4981-a999-f2cf7d1fb1ab"
      },
      "outputs": [],
      "source": [
        "from google.colab import drive\n",
        "drive.mount('/content/drive')"
      ]
    },
    {
      "cell_type": "code",
      "execution_count": null,
      "metadata": {
        "id": "nf9-WjDTChxQ"
      },
      "outputs": [],
      "source": [
        "movie_dataset = pd.read_csv(\"/content/drive/MyDrive/4cinephile/dataset/movie.csv\")\n",
        "rating_dataset = pd.read_csv(\"/content/drive/MyDrive/4cinephile/dataset/rating.csv\")"
      ]
    },
    {
      "cell_type": "code",
      "execution_count": null,
      "metadata": {
        "colab": {
          "base_uri": "https://localhost:8080/",
          "height": 206
        },
        "id": "UT5SRfz9ENFU",
        "outputId": "fb4386e2-2e2d-41d0-a9de-73ffa05f8e76"
      },
      "outputs": [],
      "source": [
        "movie_dataset.head()"
      ]
    },
    {
      "cell_type": "code",
      "execution_count": null,
      "metadata": {
        "colab": {
          "base_uri": "https://localhost:8080/",
          "height": 206
        },
        "id": "zpH4MRjSEeM_",
        "outputId": "6992714f-0f68-4c49-d2b9-596ee7c8511c"
      },
      "outputs": [],
      "source": [
        "rating_dataset.head()"
      ]
    },
    {
      "cell_type": "markdown",
      "metadata": {
        "id": "LYt7545GEoci"
      },
      "source": [
        "Exploratory Data Analysis"
      ]
    },
    {
      "cell_type": "code",
      "execution_count": null,
      "metadata": {
        "colab": {
          "base_uri": "https://localhost:8080/"
        },
        "id": "6ID26NnoEny1",
        "outputId": "46c425fc-f15a-4a80-e2c7-ea089e1245ea"
      },
      "outputs": [],
      "source": [
        "number_ratings = len(rating_dataset)\n",
        "number_movies = len(movie_dataset)\n",
        "number_of_unique_users = rating_dataset['userId'].nunique()\n",
        "number_of_unique_movies = rating_dataset['movieId'].nunique()\n",
        "\n",
        "print(\"Number of rows in movies dataset = {}\".format(number_movies))\n",
        "print(\"Number of rows in ratings dataset = {}\".format(number_ratings))\n",
        "print(\"Number of unique users in ratings dataset = {}\".format(number_of_unique_users))\n",
        "print(\"Number of unique movies in ratings dataset = {}\".format(number_of_unique_movies))"
      ]
    },
    {
      "cell_type": "code",
      "execution_count": null,
      "metadata": {
        "colab": {
          "base_uri": "https://localhost:8080/",
          "height": 472
        },
        "id": "BXAJUYWHGozo",
        "outputId": "f6d27de7-f376-4756-fa64-9455c9ee0eb5"
      },
      "outputs": [],
      "source": [
        "sns.countplot(x='rating',data=rating_dataset)\n",
        "plt.title(\"Movie ratings\")\n",
        "plt.show()"
      ]
    },
    {
      "cell_type": "code",
      "execution_count": null,
      "metadata": {
        "colab": {
          "base_uri": "https://localhost:8080/"
        },
        "id": "1uQXxZ6DG5SH",
        "outputId": "140e563a-01d2-4de7-9c89-59f8418b99e6"
      },
      "outputs": [],
      "source": [
        "mean_ratings_per_user = rating_dataset.groupby('userId')['rating'].mean()\n",
        "print(mean_ratings_per_user)\n",
        "\n",
        "total_mean_ratings = mean_ratings_per_user.mean()\n",
        "print(\"Overall mean rating : \",total_mean_ratings)"
      ]
    },
    {
      "cell_type": "code",
      "execution_count": null,
      "metadata": {
        "colab": {
          "base_uri": "https://localhost:8080/"
        },
        "id": "C67_JZeLHbOK",
        "outputId": "c2721d63-a7c2-460a-f430-6e69870e50c2"
      },
      "outputs": [],
      "source": [
        "#Find mostly frequently rated movie\n",
        "movie_ratings = pd.merge(movie_dataset,rating_dataset,on='movieId')\n",
        "print(movie_ratings.head())"
      ]
    },
    {
      "cell_type": "code",
      "execution_count": null,
      "metadata": {
        "colab": {
          "base_uri": "https://localhost:8080/"
        },
        "id": "CH1dDnUSM_mZ",
        "outputId": "d263fd1b-f2fb-4e4a-93e3-41f04211bb9a"
      },
      "outputs": [],
      "source": [
        "mean_ratings = movie_ratings.groupby('movieId')[['rating']].mean()\n",
        "print(\"The least rated movies are : \")\n",
        "lowest_rated = mean_ratings['rating'].idxmin()\n",
        "print(movie_ratings[movie_ratings['movieId']==lowest_rated])\n",
        "\n",
        "print(\"The highly rated movies are : \")\n",
        "highest_rated = mean_ratings['rating'].idxmax()\n",
        "print(movie_ratings[movie_ratings['movieId']==highest_rated])\n",
        "\n"
      ]
    },
    {
      "cell_type": "markdown",
      "metadata": {
        "id": "chfx2YYhOd5i"
      },
      "source": [
        "If we observe properly then Sonic Outlaws has highest rating, but the issue is there are only 3 ratings for that movie.\n",
        "\n",
        "Consider a case : only rated once, but it is rated 5\n",
        "Other case : A movie is rated 1000 times and everytime it is rated 4.That means that it is more popular, but it is recommended as it's rating is low.\n",
        "But actually, it's more viewed so we should be recommended that.\n",
        "\n",
        "Thus, there is issue we need ratings with respect to number of ratings\n",
        "\n",
        "To solve this issue, we use\n",
        "### Bayesian Average\n",
        "\n",
        "bayesian(ratings):\n",
        "Bayesian Average = ( C * m + (ratings.mean()))/ (C + ratings.count())\n"
      ]
    },
    {
      "cell_type": "code",
      "execution_count": null,
      "metadata": {
        "colab": {
          "base_uri": "https://localhost:8080/"
        },
        "id": "sb8K6qoCO5xj",
        "outputId": "b818f374-bf64-43a7-b6a0-b6c31523c142"
      },
      "outputs": [],
      "source": [
        "movie_stats = movie_ratings.groupby('movieId')['rating'].agg(['count','mean'])\n",
        "print(movie_stats.head())"
      ]
    },
    {
      "cell_type": "code",
      "execution_count": null,
      "metadata": {
        "id": "eFhTQYriYWW_"
      },
      "outputs": [],
      "source": [
        "C = movie_stats['count'].mean()\n",
        "m = movie_stats['mean'].mean()\n",
        "\n",
        "def bayesian_avg(ratings):\n",
        "    bayesian_avg = (C*m+ratings.sum())/(C+ratings.count())\n",
        "    return round(bayesian_avg, 3)"
      ]
    },
    {
      "cell_type": "code",
      "execution_count": null,
      "metadata": {
        "colab": {
          "base_uri": "https://localhost:8080/"
        },
        "id": "4LvdJ4N9Yk3P",
        "outputId": "d0f007da-2471-4fc1-a58e-c66e1b5c9da0"
      },
      "outputs": [],
      "source": [
        "bayesian_rating_dataset = rating_dataset.groupby('movieId')['rating'].agg(bayesian_avg).reset_index()\n",
        "bayesian_rating_dataset.columns = ['movieId','bayesian_avg']\n",
        "movie_stats = pd.merge(movie_stats,bayesian_rating_dataset,on='movieId')\n",
        "print(movie_stats.head())"
      ]
    },
    {
      "cell_type": "code",
      "execution_count": null,
      "metadata": {
        "colab": {
          "base_uri": "https://localhost:8080/"
        },
        "id": "xem3AOGTZ5uQ",
        "outputId": "01ce4c3f-1401-4128-fc6b-762f106fd53c"
      },
      "outputs": [],
      "source": [
        "movie_stats = movie_stats.merge(movie_dataset[['movieId', 'title']])\n",
        "print(movie_stats.sort_values('bayesian_avg', ascending=False).head())\n",
        "print(\"--------------------------\")\n",
        "print(movie_stats.sort_values('bayesian_avg', ascending=True).head())"
      ]
    },
    {
      "cell_type": "markdown",
      "metadata": {
        "id": "k6lu8UNfaMeJ"
      },
      "source": [
        "Separate out the genres in form of list. If we observe carefully, in dataset, it is in form of | separated."
      ]
    },
    {
      "cell_type": "code",
      "execution_count": null,
      "metadata": {
        "colab": {
          "base_uri": "https://localhost:8080/",
          "height": 206
        },
        "id": "KueY3opFZ84y",
        "outputId": "c62a5fb2-ec82-4d1b-d05a-64e7fe4ce200"
      },
      "outputs": [],
      "source": [
        "movie_dataset['genres'] = movie_dataset['genres'].apply(lambda x : x.split('|'))\n",
        "movie_dataset.head()"
      ]
    },
    {
      "cell_type": "code",
      "execution_count": null,
      "metadata": {
        "colab": {
          "base_uri": "https://localhost:8080/"
        },
        "id": "J7xL_Q3LamDC",
        "outputId": "c705895e-5602-413b-c99d-736d47917a80"
      },
      "outputs": [],
      "source": [
        "from collections import Counter\n",
        "\n",
        "genre_frequency = Counter(g for genres in movie_dataset['genres'] for g in genres)\n",
        "print(genre_frequency.most_common(5))"
      ]
    },
    {
      "cell_type": "code",
      "execution_count": null,
      "metadata": {
        "colab": {
          "base_uri": "https://localhost:8080/",
          "height": 562
        },
        "id": "cBQtl9_YayK2",
        "outputId": "72821795-32ad-4285-fcd8-8550f07c87c9"
      },
      "outputs": [],
      "source": [
        "df_genre = pd.DataFrame([genre_frequency]).T.reset_index()\n",
        "df_genre.columns = ['genre', 'count']\n",
        "\n",
        "sns.barplot(x='genre', y='count', data=df_genre.sort_values(by='count', ascending=False))\n",
        "plt.xticks(rotation=90)\n",
        "plt.show()"
      ]
    },
    {
      "cell_type": "markdown",
      "metadata": {
        "id": "GdnaA8ywdt5o"
      },
      "source": [
        "Building utility matrix\n",
        "\n",
        "---\n",
        "\n",
        "\n",
        "\n",
        "---\n",
        "\n",
        "USERS - ROWS <br>\n",
        "MOVIES - COLUMNS"
      ]
    },
    {
      "cell_type": "code",
      "execution_count": null,
      "metadata": {
        "colab": {
          "base_uri": "https://localhost:8080/"
        },
        "id": "6oXj_Gf-dvJZ",
        "outputId": "e50d1a65-3c8f-406c-b071-b37055a0bf38"
      },
      "outputs": [],
      "source": [
        "def create_utility_matrix(df):\n",
        "  #Consider m x n matrix, m users and n movies\n",
        "  m = df['userId'].nunique()\n",
        "  n = df['movieId'].nunique()\n",
        "  user_index = dict(zip(np.unique(df[\"userId\"]), list(range(m))))\n",
        "  index_user = dict(zip(list(range(m)), np.unique(df[\"userId\"])))\n",
        "  movie_index = dict(zip(np.unique(df[\"movieId\"]), list(range(n))))\n",
        "  index_movie = dict(zip(list(range(n)), np.unique(df[\"movieId\"])))\n",
        "  user_index_fromdict = [user_index[i] for i in df['userId']]\n",
        "  movie_index_fromdict = [movie_index[i] for i in df['movieId']]\n",
        "  mat = csr_matrix((df[\"rating\"], (user_index_fromdict,movie_index_fromdict)), shape=(m,n))\n",
        "  return mat,user_index,index_user,movie_index,index_movie\n",
        "\n",
        "mat,user_index,index_user,movie_index,index_movie = create_utility_matrix(rating_dataset)\n",
        "mat.shape"
      ]
    },
    {
      "cell_type": "code",
      "execution_count": null,
      "metadata": {
        "colab": {
          "base_uri": "https://localhost:8080/"
        },
        "id": "_KjM7Q71mfOY",
        "outputId": "544c7fa4-7269-4a7a-94cd-65b46629e4d0"
      },
      "outputs": [],
      "source": [
        "mat"
      ]
    },
    {
      "cell_type": "code",
      "execution_count": null,
      "metadata": {
        "colab": {
          "base_uri": "https://localhost:8080/"
        },
        "id": "1Ddj0IGyk-2l",
        "outputId": "117b0f80-4073-49c2-a741-ba5074d4dba2"
      },
      "outputs": [],
      "source": [
        "totalCells = mat.shape[0]*mat.shape[1]\n",
        "rated = mat.nnz\n",
        "sparsity = rated/totalCells\n",
        "#Shows stored_cells/Total_cells\n",
        "print(\"Sparsity is : \",sparsity)"
      ]
    },
    {
      "cell_type": "code",
      "execution_count": null,
      "metadata": {
        "colab": {
          "base_uri": "https://localhost:8080/"
        },
        "id": "SUNMfJxwmc-I",
        "outputId": "372295eb-ad5d-4199-a6ac-d6ecc3d0fd70"
      },
      "outputs": [],
      "source": [
        "n_ratings_per_user = mat.getnnz(axis=1)\n",
        "len(n_ratings_per_user)"
      ]
    },
    {
      "cell_type": "code",
      "execution_count": null,
      "metadata": {
        "colab": {
          "base_uri": "https://localhost:8080/"
        },
        "id": "CY4Do7abmk1J",
        "outputId": "992cb370-0f57-4d4a-9ae3-aa2515cd793a"
      },
      "outputs": [],
      "source": [
        "n_ratings_per_movie = mat.getnnz(axis=0)\n",
        "len(n_ratings_per_movie)"
      ]
    },
    {
      "cell_type": "code",
      "execution_count": null,
      "metadata": {
        "colab": {
          "base_uri": "https://localhost:8080/",
          "height": 573
        },
        "id": "S1CjhZeHmsX1",
        "outputId": "d450a1d0-5027-4fce-c994-654cce0b25a2"
      },
      "outputs": [],
      "source": [
        "plt.figure(figsize=(16,4))\n",
        "plt.subplot(1,2,1)\n",
        "sns.kdeplot(n_ratings_per_user, shade=True)\n",
        "plt.xlim(0)\n",
        "plt.title(\"Number of Ratings Per User\", fontsize=14)\n",
        "plt.xlabel(\"number of ratings per user\")\n",
        "plt.ylabel(\"density\")\n",
        "plt.subplot(1,2,2)\n",
        "sns.kdeplot(n_ratings_per_movie, shade=True)\n",
        "plt.xlim(0)\n",
        "plt.title(\"Number of Ratings  Per Movie\", fontsize=14)\n",
        "plt.xlabel(\"number of ratings per movie\")\n",
        "plt.ylabel(\"density\")\n",
        "plt.show()"
      ]
    },
    {
      "cell_type": "markdown",
      "metadata": {
        "id": "RLBbw_EESPJo"
      },
      "source": [
        "## **Model Export and Load**"
      ]
    },
    {
      "cell_type": "code",
      "execution_count": null,
      "metadata": {
        "id": "671KZ9SXmxVc"
      },
      "outputs": [],
      "source": [
        "\n",
        "def find_similar_movies(movie_id, mat , movie_index, index_movie, k=10, metric='cosine'):\n",
        "    mat = mat.T\n",
        "    nearest_k_ids = []\n",
        "\n",
        "    movieIdx = movie_index[movie_id]\n",
        "    movie_vec = mat[movieIdx]\n",
        "    if isinstance(movie_vec, (np.ndarray)):\n",
        "        movie_vec = movie_vec.reshape(1,-1)\n",
        "    kNN = NearestNeighbors(n_neighbors=k+1, algorithm=\"brute\", metric=metric)\n",
        "    kNN.fit(mat)\n",
        "    joblib.dump(kNN,'./Recommendation_System.sav')\n",
        "    neighbour = kNN.kneighbors(movie_vec, return_distance=False)\n",
        "    for i in range(0,k):\n",
        "        n = neighbour.item(i)\n",
        "        nearest_k_ids.append(index_movie[n])\n",
        "    nearest_k_ids.pop(0)\n",
        "    return nearest_k_ids"
      ]
    },
    {
      "cell_type": "code",
      "execution_count": null,
      "metadata": {
        "colab": {
          "base_uri": "https://localhost:8080/"
        },
        "id": "b0b9El2rRtig",
        "outputId": "af00646d-d91b-40d1-af66-d4e35398e9bf"
      },
      "outputs": [],
      "source": [
        "movie_dataset.to_parquet('./movie_database.parquet',engine='fastparquet',index=False)\n",
        "save_npz('utility_matrix.npz', mat)\n",
        "joblib.dump(user_index,'./user_index.pkl')\n",
        "joblib.dump(index_user,'./index_user.pkl')\n",
        "joblib.dump(movie_index,'./movie_index.pkl')\n",
        "joblib.dump(index_movie,'./index_movie.pkl')"
      ]
    },
    {
      "cell_type": "code",
      "execution_count": null,
      "metadata": {
        "id": "cIAhBZBbXhI2"
      },
      "outputs": [],
      "source": [
        "movie_dataset = pd.read_parquet('./movie_database.parquet')\n",
        "mat = load_npz('./utility_matrix.npz')\n",
        "user_index = joblib.load('./user_index.pkl')\n",
        "index_user = joblib.load('./index_user.pkl')\n",
        "movie_index = joblib.load('./movie_index.pkl')\n",
        "index_movie = joblib.load('./index_movie.pkl')\n",
        "model = joblib.load('./Recommendation_System.sav')\n",
        "movie_title = 'Toy Story (1995)'"
      ]
    },
    {
      "cell_type": "code",
      "execution_count": null,
      "metadata": {
        "id": "2Hr073pdXzwB"
      },
      "outputs": [],
      "source": [
        "def get_recommendations(movie_title,model, mat, k=11):\n",
        "    titleofmovie = dict(zip(movie_dataset['title'], movie_dataset['movieId']))\n",
        "    titleofmovie_new = dict(zip(movie_dataset['movieId'], movie_dataset['title']))\n",
        "    movie_id = titleofmovie[movie_title]\n",
        "    mat = mat.T\n",
        "    nearest_k_ids = []\n",
        "    nearest_movie_name = []\n",
        "    movieIdx = movie_index[movie_id]\n",
        "    movie_vec = mat[movieIdx]\n",
        "    neighbour = model.kneighbors(movie_vec, return_distance=False)\n",
        "    for i in range(0,k):\n",
        "        n = neighbour.item(i)\n",
        "        nearest_k_ids.append(index_movie[n])\n",
        "        nearest_movie_name.append(titleofmovie_new[index_movie[n]])\n",
        "    nearest_k_ids.pop(0)\n",
        "    nearest_movie_name.pop(0)\n",
        "    return nearest_movie_name"
      ]
    },
    {
      "cell_type": "code",
      "execution_count": null,
      "metadata": {
        "colab": {
          "base_uri": "https://localhost:8080/"
        },
        "id": "gcZELaYtYtGe",
        "outputId": "d5d8bb4e-9412-4b44-d513-f72295caea36"
      },
      "outputs": [],
      "source": [
        "get_recommendations(movie_title,model,mat)"
      ]
    }
  ],
  "metadata": {
    "colab": {
      "provenance": [],
      "toc_visible": true
    },
    "kernelspec": {
      "display_name": "Python 3",
      "name": "python3"
    },
    "language_info": {
      "name": "python"
    }
  },
  "nbformat": 4,
  "nbformat_minor": 0
}
